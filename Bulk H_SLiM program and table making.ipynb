{
 "cells": [
  {
   "cell_type": "code",
   "execution_count": null,
   "metadata": {},
   "outputs": [],
   "source": [
    "import H_SLiM\n",
    "from Bio import ExPASy\n",
    "from Bio import SwissProt\n",
    "from Bio import SeqIO\n",
    "import glob\n",
    "import pandas as pd"
   ]
  },
  {
   "cell_type": "code",
   "execution_count": null,
   "metadata": {},
   "outputs": [],
   "source": [
    "filepath = '/Users/ray07c/Dropbox/Submission Biopolymers/mature_amelogenins_accession_codes.txt'\n",
    "\n",
    "with open(filepath) as f:\n",
    "    content = f.readlines()\n",
    "# you may also want to remove whitespace characters like `\\n` at the end of each line\n",
    "content = [x.strip() for x in content] \n",
    "#print(content)\n",
    "for accession in content:\n",
    "    seq = H_SLiM.fasta_download(accession, -1, -1)\n",
    "    scale = H_SLiM.scales(\"guy\")\n",
    "    IDP = H_SLiM.order(\"IDP\")\n",
    "    H_SLiM.h_slim(seq[0], seq[1], seq[2], seq[3], scale, IDP, 25, '/Users/ray07c/Dropbox/Submission Biopolymers/protein_calculations_python_v3_guy/Sw_amelogenins/', 'yes')\n",
    "    H_SLiM.norm_hydro_order(seq[0], seq[1], seq[2], seq[3], scale, IDP, '/Users/ray07c/Dropbox/Submission Biopolymers/protein_calculations_python_v3_guy/Parameters_amelogenins/', 'yes')"
   ]
  },
  {
   "cell_type": "code",
   "execution_count": null,
   "metadata": {},
   "outputs": [],
   "source": [
    "path =r'C:\\Users\\ray07c\\Dropbox\\Submission Biopolymers\\protein_calculations_python_v3_guy\\Sw_N_term_orthologues_HspB1' # use your path\n",
    "allFiles = glob.glob(path + \"/*.csv\")\n",
    "\n",
    "list_ = []\n",
    "\n",
    "for file_ in allFiles:\n",
    "    df = pd.read_csv(file_, index_col=None, header=0)\n",
    "    list_.append(df)\n",
    "\n",
    "frame = pd.concat(list_, axis = 0, ignore_index = True)\n",
    "frame.to_csv(r'C:\\Users\\ray07c\\Dropbox\\Submission Biopolymers\\protein_calculations_python_v3_guy\\Full_Sw_N_term_orthologues_HspB1' + '.csv', index = False)"
   ]
  },
  {
   "cell_type": "code",
   "execution_count": null,
   "metadata": {},
   "outputs": [],
   "source": [
    "path =r'C:\\Users\\ray07c\\Dropbox\\Submission Biopolymers\\protein_calculations_python_v3_guy\\Parameters_N_term_orthologues_HspB1' # use your path\n",
    "allFiles = glob.glob(path + \"/*.csv\")\n",
    "\n",
    "list_ = []\n",
    "\n",
    "for file_ in allFiles:\n",
    "    df = pd.read_csv(file_, index_col=None, header=0)\n",
    "    list_.append(df)\n",
    "\n",
    "frame = pd.concat(list_, axis = 0, ignore_index = True)\n",
    "frame.to_csv(r'C:\\Users\\ray07c\\Dropbox\\Submission Biopolymers\\protein_calculations_python_v3_guy\\Full_Parameters_N_term_orthologues_HspB1' + '.csv', index = False)"
   ]
  },
  {
   "cell_type": "code",
   "execution_count": null,
   "metadata": {},
   "outputs": [],
   "source": []
  }
 ],
 "metadata": {
  "kernelspec": {
   "display_name": "Python 3",
   "language": "python",
   "name": "python3"
  },
  "language_info": {
   "codemirror_mode": {
    "name": "ipython",
    "version": 3
   },
   "file_extension": ".py",
   "mimetype": "text/x-python",
   "name": "python",
   "nbconvert_exporter": "python",
   "pygments_lexer": "ipython3",
   "version": "3.6.4"
  }
 },
 "nbformat": 4,
 "nbformat_minor": 2
}
